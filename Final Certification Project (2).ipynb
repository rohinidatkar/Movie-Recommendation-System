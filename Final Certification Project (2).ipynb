{
 "cells": [
  {
   "cell_type": "markdown",
   "id": "9236a9d7",
   "metadata": {},
   "source": [
    "# Importing Libraries and Loading Dataset"
   ]
  },
  {
   "cell_type": "code",
   "execution_count": 1,
   "id": "7315af8f",
   "metadata": {},
   "outputs": [],
   "source": [
    "import pandas as pd\n",
    "import numpy as np\n",
    "\n",
    "# Load datasets\n",
    "movies = pd.read_csv('Movies.csv')\n",
    "ratings = pd.read_csv('Ratings.csv')"
   ]
  },
  {
   "cell_type": "markdown",
   "id": "5380df8a",
   "metadata": {},
   "source": [
    "# Displaying dataset for Movies Data"
   ]
  },
  {
   "cell_type": "code",
   "execution_count": 2,
   "id": "b04b0ea4",
   "metadata": {},
   "outputs": [
    {
     "data": {
      "text/html": [
       "<div>\n",
       "<style scoped>\n",
       "    .dataframe tbody tr th:only-of-type {\n",
       "        vertical-align: middle;\n",
       "    }\n",
       "\n",
       "    .dataframe tbody tr th {\n",
       "        vertical-align: top;\n",
       "    }\n",
       "\n",
       "    .dataframe thead th {\n",
       "        text-align: right;\n",
       "    }\n",
       "</style>\n",
       "<table border=\"1\" class=\"dataframe\">\n",
       "  <thead>\n",
       "    <tr style=\"text-align: right;\">\n",
       "      <th></th>\n",
       "      <th>movieId</th>\n",
       "      <th>title</th>\n",
       "      <th>genres</th>\n",
       "    </tr>\n",
       "  </thead>\n",
       "  <tbody>\n",
       "    <tr>\n",
       "      <th>0</th>\n",
       "      <td>1</td>\n",
       "      <td>Toy Story (1995)</td>\n",
       "      <td>Adventure|Animation|Children|Comedy|Fantasy</td>\n",
       "    </tr>\n",
       "    <tr>\n",
       "      <th>1</th>\n",
       "      <td>2</td>\n",
       "      <td>Jumanji (1995)</td>\n",
       "      <td>Adventure|Children|Fantasy</td>\n",
       "    </tr>\n",
       "    <tr>\n",
       "      <th>2</th>\n",
       "      <td>3</td>\n",
       "      <td>Grumpier Old Men (1995)</td>\n",
       "      <td>Comedy|Romance</td>\n",
       "    </tr>\n",
       "    <tr>\n",
       "      <th>3</th>\n",
       "      <td>4</td>\n",
       "      <td>Waiting to Exhale (1995)</td>\n",
       "      <td>Comedy|Drama|Romance</td>\n",
       "    </tr>\n",
       "    <tr>\n",
       "      <th>4</th>\n",
       "      <td>5</td>\n",
       "      <td>Father of the Bride Part II (1995)</td>\n",
       "      <td>Comedy</td>\n",
       "    </tr>\n",
       "  </tbody>\n",
       "</table>\n",
       "</div>"
      ],
      "text/plain": [
       "   movieId                               title  \\\n",
       "0        1                    Toy Story (1995)   \n",
       "1        2                      Jumanji (1995)   \n",
       "2        3             Grumpier Old Men (1995)   \n",
       "3        4            Waiting to Exhale (1995)   \n",
       "4        5  Father of the Bride Part II (1995)   \n",
       "\n",
       "                                        genres  \n",
       "0  Adventure|Animation|Children|Comedy|Fantasy  \n",
       "1                   Adventure|Children|Fantasy  \n",
       "2                               Comedy|Romance  \n",
       "3                         Comedy|Drama|Romance  \n",
       "4                                       Comedy  "
      ]
     },
     "execution_count": 2,
     "metadata": {},
     "output_type": "execute_result"
    }
   ],
   "source": [
    "# Display the first few rows of each dataframe\n",
    "movies.head()"
   ]
  },
  {
   "cell_type": "markdown",
   "id": "bba91ce3",
   "metadata": {},
   "source": [
    "# Displaying Dataset for Ratings Data"
   ]
  },
  {
   "cell_type": "code",
   "execution_count": 3,
   "id": "091fe022",
   "metadata": {},
   "outputs": [
    {
     "data": {
      "text/html": [
       "<div>\n",
       "<style scoped>\n",
       "    .dataframe tbody tr th:only-of-type {\n",
       "        vertical-align: middle;\n",
       "    }\n",
       "\n",
       "    .dataframe tbody tr th {\n",
       "        vertical-align: top;\n",
       "    }\n",
       "\n",
       "    .dataframe thead th {\n",
       "        text-align: right;\n",
       "    }\n",
       "</style>\n",
       "<table border=\"1\" class=\"dataframe\">\n",
       "  <thead>\n",
       "    <tr style=\"text-align: right;\">\n",
       "      <th></th>\n",
       "      <th>userId</th>\n",
       "      <th>movieId</th>\n",
       "      <th>rating</th>\n",
       "      <th>timestamp</th>\n",
       "    </tr>\n",
       "  </thead>\n",
       "  <tbody>\n",
       "    <tr>\n",
       "      <th>0</th>\n",
       "      <td>1</td>\n",
       "      <td>16</td>\n",
       "      <td>4.0</td>\n",
       "      <td>1217897793</td>\n",
       "    </tr>\n",
       "    <tr>\n",
       "      <th>1</th>\n",
       "      <td>1</td>\n",
       "      <td>24</td>\n",
       "      <td>1.5</td>\n",
       "      <td>1217895807</td>\n",
       "    </tr>\n",
       "    <tr>\n",
       "      <th>2</th>\n",
       "      <td>1</td>\n",
       "      <td>32</td>\n",
       "      <td>4.0</td>\n",
       "      <td>1217896246</td>\n",
       "    </tr>\n",
       "    <tr>\n",
       "      <th>3</th>\n",
       "      <td>1</td>\n",
       "      <td>47</td>\n",
       "      <td>4.0</td>\n",
       "      <td>1217896556</td>\n",
       "    </tr>\n",
       "    <tr>\n",
       "      <th>4</th>\n",
       "      <td>1</td>\n",
       "      <td>50</td>\n",
       "      <td>4.0</td>\n",
       "      <td>1217896523</td>\n",
       "    </tr>\n",
       "  </tbody>\n",
       "</table>\n",
       "</div>"
      ],
      "text/plain": [
       "   userId  movieId  rating   timestamp\n",
       "0       1       16     4.0  1217897793\n",
       "1       1       24     1.5  1217895807\n",
       "2       1       32     4.0  1217896246\n",
       "3       1       47     4.0  1217896556\n",
       "4       1       50     4.0  1217896523"
      ]
     },
     "execution_count": 3,
     "metadata": {},
     "output_type": "execute_result"
    }
   ],
   "source": [
    "ratings.head()"
   ]
  },
  {
   "cell_type": "markdown",
   "id": "d98f0f56",
   "metadata": {},
   "source": [
    "# Exploratory Data Analysis "
   ]
  },
  {
   "cell_type": "code",
   "execution_count": 4,
   "id": "7bfe40f9",
   "metadata": {},
   "outputs": [
    {
     "name": "stdout",
     "output_type": "stream",
     "text": [
      "              userId        movieId         rating     timestamp\n",
      "count  105339.000000  105339.000000  105339.000000  1.053390e+05\n",
      "mean      364.924539   13381.312477       3.516850  1.130424e+09\n",
      "std       197.486905   26170.456869       1.044872  1.802660e+08\n",
      "min         1.000000       1.000000       0.500000  8.285650e+08\n",
      "25%       192.000000    1073.000000       3.000000  9.711008e+08\n",
      "50%       383.000000    2497.000000       3.500000  1.115154e+09\n",
      "75%       557.000000    5991.000000       4.000000  1.275496e+09\n",
      "max       668.000000  149532.000000       5.000000  1.452405e+09\n",
      "Unique users: 668\n",
      "Unique movies: 10325\n",
      "movieId\n",
      "1    3.907328\n",
      "2    3.353261\n",
      "3    3.189655\n",
      "4    2.818182\n",
      "5    3.250000\n",
      "Name: rating, dtype: float64\n",
      "genres\n",
      "Drama                 5220\n",
      "Comedy                3515\n",
      "Thriller              2187\n",
      "Romance               1788\n",
      "Action                1737\n",
      "Crime                 1440\n",
      "Adventure             1164\n",
      "Horror                1001\n",
      "Sci-Fi                 860\n",
      "Mystery                675\n",
      "Fantasy                670\n",
      "Children               540\n",
      "War                    503\n",
      "Documentary            415\n",
      "Musical                409\n",
      "Animation              401\n",
      "Western                235\n",
      "Film-Noir              195\n",
      "IMAX                   152\n",
      "(no genres listed)       7\n",
      "Name: count, dtype: int64\n"
     ]
    }
   ],
   "source": [
    "# Basic statistics of ratings\n",
    "print(ratings.describe())\n",
    "\n",
    "# Number of unique users and movies\n",
    "unique_users = ratings['userId'].nunique()\n",
    "unique_movies = ratings['movieId'].nunique()\n",
    "\n",
    "print(f'Unique users: {unique_users}')\n",
    "print(f'Unique movies: {unique_movies}')\n",
    "\n",
    "# Average rating per movie\n",
    "average_rating = ratings.groupby('movieId')['rating'].mean()\n",
    "print(average_rating.head())\n",
    "\n",
    "# Total movies at genre level and unique genres\n",
    "movies['genres'] = movies['genres'].str.split('|')\n",
    "genres_exploded = movies.explode('genres')\n",
    "genre_counts = genres_exploded['genres'].value_counts()\n",
    "\n",
    "print(genre_counts)"
   ]
  },
  {
   "cell_type": "markdown",
   "id": "91aa5f67",
   "metadata": {},
   "source": [
    "# Designed Recommendation Modules as Popularity-based Recommender System"
   ]
  },
  {
   "cell_type": "code",
   "execution_count": 5,
   "id": "442088d9",
   "metadata": {},
   "outputs": [
    {
     "name": "stdout",
     "output_type": "stream",
     "text": [
      "                                       title  average_rating  num_reviews\n",
      "2093  Monty Python and the Holy Grail (1975)        4.301948          154\n",
      "995                             Fargo (1996)        4.271144          201\n",
      "2498              Princess Bride, The (1987)        4.163743          171\n",
      "2523                     Pulp Fiction (1994)        4.160000          325\n",
      "1069                     Forrest Gump (1994)        4.138264          311\n"
     ]
    }
   ],
   "source": [
    "def popularity_based_recommendation(genre, min_reviews, num_recommendations):\n",
    "    # Filter movies by genre\n",
    "    genre_movies = genres_exploded[genres_exploded['genres'] == genre]\n",
    "    \n",
    "    # Merge with ratings\n",
    "    genre_ratings = pd.merge(genre_movies, ratings, on='movieId')\n",
    "    \n",
    "    # Group by movie and calculate average rating and review count\n",
    "    movie_stats = genre_ratings.groupby('title').agg(\n",
    "        average_rating=('rating', 'mean'),\n",
    "        num_reviews=('rating', 'count')\n",
    "    ).reset_index()\n",
    "    \n",
    "    # Filter movies by minimum reviews\n",
    "    popular_movies = movie_stats[movie_stats['num_reviews'] >= min_reviews]\n",
    "    \n",
    "    # Sort by average rating and get top N movies\n",
    "    top_movies = popular_movies.sort_values(by='average_rating', ascending=False).head(num_recommendations)\n",
    "    \n",
    "    return top_movies\n",
    "\n",
    "# Example usage\n",
    "print(popularity_based_recommendation('Comedy', 100, 5))"
   ]
  },
  {
   "cell_type": "markdown",
   "id": "31b0dbdf",
   "metadata": {},
   "source": [
    "# Content-based Recommender System"
   ]
  },
  {
   "cell_type": "code",
   "execution_count": 6,
   "id": "98b0cebd",
   "metadata": {},
   "outputs": [
    {
     "name": "stdout",
     "output_type": "stream",
     "text": [
      "1                        Jumanji (1995)\n",
      "2               Grumpier Old Men (1995)\n",
      "3              Waiting to Exhale (1995)\n",
      "4    Father of the Bride Part II (1995)\n",
      "6                        Sabrina (1995)\n",
      "Name: title, dtype: object\n"
     ]
    }
   ],
   "source": [
    "def content_based_recommendation(movie_title, num_recommendations):\n",
    "    # Get the genres of the given movie\n",
    "    movie_genres = movies[movies['title'] == movie_title]['genres'].values[0]\n",
    "    \n",
    "    # Filter movies with similar genres\n",
    "    similar_movies = movies[movies['genres'].apply(lambda x: any(genre in x for genre in movie_genres))]\n",
    "    \n",
    "    # Exclude the input movie from recommendations\n",
    "    similar_movies = similar_movies[similar_movies['title'] != movie_title]\n",
    "    \n",
    "    # Return top N recommendations\n",
    "    return similar_movies.head(num_recommendations)['title']\n",
    "\n",
    "# Example usage\n",
    "print(content_based_recommendation('Toy Story (1995)', 5))"
   ]
  },
  {
   "cell_type": "markdown",
   "id": "3da788b7",
   "metadata": {},
   "source": [
    "# Collaborative Filtering Recommender System"
   ]
  },
  {
   "cell_type": "code",
   "execution_count": 7,
   "id": "3dcb3483",
   "metadata": {},
   "outputs": [
    {
     "name": "stdout",
     "output_type": "stream",
     "text": [
      "Index(['Indiana Jones and the Last Crusade (1989)', 'Toy Story (1995)',\n",
      "       'Die Hard (1988)', 'Aliens (1986)', 'Memento (2000)'],\n",
      "      dtype='object', name='movieId')\n"
     ]
    }
   ],
   "source": [
    "from sklearn.metrics.pairwise import cosine_similarity\n",
    "from scipy.sparse import csr_matrix\n",
    "\n",
    "def collaborative_filtering_recommendation(user_id, num_recommendations, num_similar_users):\n",
    "    # Create user-item matrix\n",
    "    user_item_matrix = ratings.pivot(index='userId', columns='movieId', values='rating').fillna(0)\n",
    "    user_item_sparse = csr_matrix(user_item_matrix)\n",
    "    \n",
    "    # Compute similarity between users\n",
    "    user_similarity = cosine_similarity(user_item_sparse)\n",
    "    \n",
    "    # Get similar users\n",
    "    user_idx = user_id - 1\n",
    "    similar_users = np.argsort(-user_similarity[user_idx])[:num_similar_users]\n",
    "    \n",
    "    # Aggregate ratings of similar users\n",
    "    similar_users_ratings = user_item_matrix.iloc[similar_users].mean(axis=0)\n",
    "    \n",
    "    # Exclude movies already rated by the user\n",
    "    user_ratings = user_item_matrix.iloc[user_idx]\n",
    "    recommendations = similar_users_ratings[user_ratings == 0]\n",
    "    \n",
    "    # Get top N recommendations\n",
    "    top_recommendations = recommendations.sort_values(ascending=False).head(num_recommendations)\n",
    "    \n",
    "    # Map movie IDs to titles\n",
    "    top_recommendations = top_recommendations.index.map(movies.set_index('movieId')['title'])\n",
    "    \n",
    "    return top_recommendations\n",
    "\n",
    "# Example usage\n",
    "print(collaborative_filtering_recommendation(1, 5, 100))"
   ]
  },
  {
   "cell_type": "markdown",
   "id": "ad71957a",
   "metadata": {},
   "source": [
    "# GUI Interface"
   ]
  },
  {
   "cell_type": "code",
   "execution_count": 8,
   "id": "f51589e7",
   "metadata": {},
   "outputs": [
    {
     "data": {
      "application/vnd.jupyter.widget-view+json": {
       "model_id": "f41cf2b030df4f8c8343c906dc7ff95f",
       "version_major": 2,
       "version_minor": 0
      },
      "text/plain": [
       "Text(value='Action', description='Genre:')"
      ]
     },
     "metadata": {},
     "output_type": "display_data"
    },
    {
     "data": {
      "application/vnd.jupyter.widget-view+json": {
       "model_id": "c392193c2ea84453812254b88e3f1e3d",
       "version_major": 2,
       "version_minor": 0
      },
      "text/plain": [
       "IntSlider(value=100, description='Min Reviews:', max=500, step=10)"
      ]
     },
     "metadata": {},
     "output_type": "display_data"
    },
    {
     "data": {
      "application/vnd.jupyter.widget-view+json": {
       "model_id": "95eb89bb1c8a4e1ab2b106b99e712f02",
       "version_major": 2,
       "version_minor": 0
      },
      "text/plain": [
       "IntSlider(value=5, description='Num Recommendations:', max=20, min=1)"
      ]
     },
     "metadata": {},
     "output_type": "display_data"
    },
    {
     "data": {
      "application/vnd.jupyter.widget-view+json": {
       "model_id": "6b5cd8a734c049cc93a7772b3ab9371a",
       "version_major": 2,
       "version_minor": 0
      },
      "text/plain": [
       "Output()"
      ]
     },
     "metadata": {},
     "output_type": "display_data"
    }
   ],
   "source": [
    "import ipywidgets as widgets\n",
    "from IPython.display import display\n",
    "\n",
    "# Define widgets\n",
    "genre_widget = widgets.Text(value='Action', description='Genre:')\n",
    "min_reviews_widget = widgets.IntSlider(value=100, min=0, max=500, step=10, description='Min Reviews:')\n",
    "num_recommendations_widget = widgets.IntSlider(value=5, min=1, max=20, step=1, description='Num Recommendations:')\n",
    "output_widget = widgets.Output()\n",
    "\n",
    "# Define update function\n",
    "def update_recommendations(change):\n",
    "    with output_widget:\n",
    "        output_widget.clear_output()\n",
    "        genre = genre_widget.value\n",
    "        min_reviews = min_reviews_widget.value\n",
    "        num_recommendations = num_recommendations_widget.value\n",
    "        recommendations = popularity_based_recommendation(genre, min_reviews, num_recommendations)\n",
    "        display(recommendations)\n",
    "\n",
    "# Attach update function to widget changes\n",
    "genre_widget.observe(update_recommendations, names='value')\n",
    "min_reviews_widget.observe(update_recommendations, names='value')\n",
    "num_recommendations_widget.observe(update_recommendations, names='value')\n",
    "\n",
    "# Display widgets\n",
    "display(genre_widget, min_reviews_widget, num_recommendations_widget, output_widget)\n",
    "\n",
    "# Initialize output\n",
    "update_recommendations(None)"
   ]
  },
  {
   "cell_type": "code",
   "execution_count": 10,
   "id": "419f3b42",
   "metadata": {},
   "outputs": [
    {
     "data": {
      "application/vnd.jupyter.widget-view+json": {
       "model_id": "beb842ee5b6d458cada0cd1b342466e1",
       "version_major": 2,
       "version_minor": 0
      },
      "text/plain": [
       "Text(value='Drama', description='Genre:')"
      ]
     },
     "metadata": {},
     "output_type": "display_data"
    },
    {
     "data": {
      "application/vnd.jupyter.widget-view+json": {
       "model_id": "93ce669b33f04e428969da107af58264",
       "version_major": 2,
       "version_minor": 0
      },
      "text/plain": [
       "IntSlider(value=100, description='Min Reviews:', max=500, step=10)"
      ]
     },
     "metadata": {},
     "output_type": "display_data"
    },
    {
     "data": {
      "application/vnd.jupyter.widget-view+json": {
       "model_id": "0ebfd96bd8bd4348a0f0070d4c56ac05",
       "version_major": 2,
       "version_minor": 0
      },
      "text/plain": [
       "IntSlider(value=5, description='Num Recommendations:', max=20, min=1)"
      ]
     },
     "metadata": {},
     "output_type": "display_data"
    },
    {
     "data": {
      "application/vnd.jupyter.widget-view+json": {
       "model_id": "6f575e6acf504c6aa23e86d11516a9cf",
       "version_major": 2,
       "version_minor": 0
      },
      "text/plain": [
       "Output()"
      ]
     },
     "metadata": {},
     "output_type": "display_data"
    }
   ],
   "source": [
    "import ipywidgets as widgets\n",
    "from IPython.display import display\n",
    "\n",
    "# Define widgets\n",
    "genre_widget = widgets.Text(value='Drama', description='Genre:')\n",
    "min_reviews_widget = widgets.IntSlider(value=100, min=0, max=500, step=10, description='Min Reviews:')\n",
    "num_recommendations_widget = widgets.IntSlider(value=5, min=1, max=20, step=1, description='Num Recommendations:')\n",
    "output_widget = widgets.Output()\n",
    "\n",
    "# Define update function\n",
    "def update_recommendations(change):\n",
    "    with output_widget:\n",
    "        output_widget.clear_output()\n",
    "        genre = genre_widget.value\n",
    "        min_reviews = min_reviews_widget.value\n",
    "        num_recommendations = num_recommendations_widget.value\n",
    "        recommendations = popularity_based_recommendation(genre, min_reviews, num_recommendations)\n",
    "        display(recommendations)\n",
    "\n",
    "# Attach update function to widget changes\n",
    "genre_widget.observe(update_recommendations, names='value')\n",
    "min_reviews_widget.observe(update_recommendations, names='value')\n",
    "num_recommendations_widget.observe(update_recommendations, names='value')\n",
    "\n",
    "# Display widgets\n",
    "display(genre_widget, min_reviews_widget, num_recommendations_widget, output_widget)\n",
    "\n",
    "# Initialize output\n",
    "update_recommendations(None)"
   ]
  },
  {
   "cell_type": "code",
   "execution_count": 12,
   "id": "195fc2cf",
   "metadata": {},
   "outputs": [
    {
     "data": {
      "application/vnd.jupyter.widget-view+json": {
       "model_id": "0476f0db611c44a29dca226a0c440780",
       "version_major": 2,
       "version_minor": 0
      },
      "text/plain": [
       "Text(value='Horror', description='Genre:')"
      ]
     },
     "metadata": {},
     "output_type": "display_data"
    },
    {
     "data": {
      "application/vnd.jupyter.widget-view+json": {
       "model_id": "e49b83fb013440b1aa9a611f6db6b464",
       "version_major": 2,
       "version_minor": 0
      },
      "text/plain": [
       "IntSlider(value=100, description='Min Reviews:', max=500, step=10)"
      ]
     },
     "metadata": {},
     "output_type": "display_data"
    },
    {
     "data": {
      "application/vnd.jupyter.widget-view+json": {
       "model_id": "e363200d86744eedaaf2e380bcedcf7a",
       "version_major": 2,
       "version_minor": 0
      },
      "text/plain": [
       "IntSlider(value=5, description='Num Recommendations:', max=20, min=1)"
      ]
     },
     "metadata": {},
     "output_type": "display_data"
    },
    {
     "data": {
      "application/vnd.jupyter.widget-view+json": {
       "model_id": "6a3cd027fa7a475d9640977657c95325",
       "version_major": 2,
       "version_minor": 0
      },
      "text/plain": [
       "Output()"
      ]
     },
     "metadata": {},
     "output_type": "display_data"
    }
   ],
   "source": [
    "import ipywidgets as widgets\n",
    "from IPython.display import display\n",
    "\n",
    "# Define widgets\n",
    "genre_widget = widgets.Text(value='Horror', description='Genre:')\n",
    "min_reviews_widget = widgets.IntSlider(value=100, min=0, max=500, step=10, description='Min Reviews:')\n",
    "num_recommendations_widget = widgets.IntSlider(value=5, min=1, max=20, step=1, description='Num Recommendations:')\n",
    "output_widget = widgets.Output()\n",
    "\n",
    "# Define update function\n",
    "def update_recommendations(change):\n",
    "    with output_widget:\n",
    "        output_widget.clear_output()\n",
    "        genre = genre_widget.value\n",
    "        min_reviews = min_reviews_widget.value\n",
    "        num_recommendations = num_recommendations_widget.value\n",
    "        recommendations = popularity_based_recommendation(genre, min_reviews, num_recommendations)\n",
    "        display(recommendations)\n",
    "\n",
    "# Attach update function to widget changes\n",
    "genre_widget.observe(update_recommendations, names='value')\n",
    "min_reviews_widget.observe(update_recommendations, names='value')\n",
    "num_recommendations_widget.observe(update_recommendations, names='value')\n",
    "\n",
    "# Display widgets\n",
    "display(genre_widget, min_reviews_widget, num_recommendations_widget, output_widget)\n",
    "\n",
    "# Initialize output\n",
    "update_recommendations(None)"
   ]
  },
  {
   "cell_type": "code",
   "execution_count": 16,
   "id": "bc686af2",
   "metadata": {},
   "outputs": [
    {
     "data": {
      "application/vnd.jupyter.widget-view+json": {
       "model_id": "e3b7cf40d21a49d6919a9ea0d371fbcc",
       "version_major": 2,
       "version_minor": 0
      },
      "text/plain": [
       "Text(value='Romance', description='Genre:')"
      ]
     },
     "metadata": {},
     "output_type": "display_data"
    },
    {
     "data": {
      "application/vnd.jupyter.widget-view+json": {
       "model_id": "1b19e4e3553e474ca8f376167260b448",
       "version_major": 2,
       "version_minor": 0
      },
      "text/plain": [
       "IntSlider(value=100, description='Min Reviews:', max=500, step=10)"
      ]
     },
     "metadata": {},
     "output_type": "display_data"
    },
    {
     "data": {
      "application/vnd.jupyter.widget-view+json": {
       "model_id": "264d39e6165947f89c76b4698571af05",
       "version_major": 2,
       "version_minor": 0
      },
      "text/plain": [
       "IntSlider(value=5, description='Num Recommendations:', max=20, min=1)"
      ]
     },
     "metadata": {},
     "output_type": "display_data"
    },
    {
     "data": {
      "application/vnd.jupyter.widget-view+json": {
       "model_id": "95a26dc369ec426988d3c10f282307a1",
       "version_major": 2,
       "version_minor": 0
      },
      "text/plain": [
       "Output()"
      ]
     },
     "metadata": {},
     "output_type": "display_data"
    }
   ],
   "source": [
    "import ipywidgets as widgets\n",
    "from IPython.display import display\n",
    "\n",
    "# Define widgets\n",
    "genre_widget = widgets.Text(value='Romance', description='Genre:')\n",
    "min_reviews_widget = widgets.IntSlider(value=100, min=0, max=500, step=10, description='Min Reviews:')\n",
    "num_recommendations_widget = widgets.IntSlider(value=5, min=1, max=20, step=1, description='Num Recommendations:')\n",
    "output_widget = widgets.Output()\n",
    "\n",
    "# Define update function\n",
    "def update_recommendations(change):\n",
    "    with output_widget:\n",
    "        output_widget.clear_output()\n",
    "        genre = genre_widget.value\n",
    "        min_reviews = min_reviews_widget.value\n",
    "        num_recommendations = num_recommendations_widget.value\n",
    "        recommendations = popularity_based_recommendation(genre, min_reviews, num_recommendations)\n",
    "        display(recommendations)\n",
    "\n",
    "# Attach update function to widget changes\n",
    "genre_widget.observe(update_recommendations, names='value')\n",
    "min_reviews_widget.observe(update_recommendations, names='value')\n",
    "num_recommendations_widget.observe(update_recommendations, names='value')\n",
    "\n",
    "# Display widgets\n",
    "display(genre_widget, min_reviews_widget, num_recommendations_widget, output_widget)\n",
    "\n",
    "# Initialize output\n",
    "update_recommendations(None)"
   ]
  },
  {
   "cell_type": "code",
   "execution_count": null,
   "id": "586e295c",
   "metadata": {},
   "outputs": [],
   "source": []
  }
 ],
 "metadata": {
  "kernelspec": {
   "display_name": "Python 3",
   "language": "python",
   "name": "python3"
  },
  "language_info": {
   "codemirror_mode": {
    "name": "ipython",
    "version": 3
   },
   "file_extension": ".py",
   "mimetype": "text/x-python",
   "name": "python",
   "nbconvert_exporter": "python",
   "pygments_lexer": "ipython3",
   "version": "3.8.8"
  }
 },
 "nbformat": 4,
 "nbformat_minor": 5
}
